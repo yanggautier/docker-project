{
 "cells": [
  {
   "cell_type": "code",
   "execution_count": 2,
   "id": "2e48108a-d811-4439-b480-b57f70d17afb",
   "metadata": {},
   "outputs": [],
   "source": [
    "from insert_data import insert_data"
   ]
  },
  {
   "cell_type": "code",
   "execution_count": 3,
   "id": "aded4f63-515e-488c-ad31-b84adb039881",
   "metadata": {},
   "outputs": [
    {
     "name": "stdout",
     "output_type": "stream",
     "text": [
      "Inserted 1000 documents into MongoDB\n"
     ]
    }
   ],
   "source": [
    "insert_data(\"data/books.csv\")"
   ]
  },
  {
   "cell_type": "code",
   "execution_count": null,
   "id": "3ec73d6c-d97e-42a4-8a08-970a9725750e",
   "metadata": {},
   "outputs": [],
   "source": []
  }
 ],
 "metadata": {
  "kernelspec": {
   "display_name": "Python 3 (ipykernel)",
   "language": "python",
   "name": "python3"
  },
  "language_info": {
   "codemirror_mode": {
    "name": "ipython",
    "version": 3
   },
   "file_extension": ".py",
   "mimetype": "text/x-python",
   "name": "python",
   "nbconvert_exporter": "python",
   "pygments_lexer": "ipython3",
   "version": "3.8.19"
  }
 },
 "nbformat": 4,
 "nbformat_minor": 5
}
